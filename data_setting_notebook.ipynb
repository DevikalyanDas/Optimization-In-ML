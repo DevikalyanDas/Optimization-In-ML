{
 "cells": [
  {
   "cell_type": "code",
   "execution_count": 5,
   "metadata": {},
   "outputs": [
    {
     "name": "stdout",
     "output_type": "stream",
     "text": [
      "./ood_data/target_2.zip: No such file or directory\r\n"
     ]
    }
   ],
   "source": [
    "!wget -O target_2.zip 'https://www.dropbox.com/sh/u2bq2xo8sbax4pr/AAAfSiBklZiefTgrrfeKT6LPa/track_1?dl=0&subfolder_nav_tracking=1&download=1'"
   ]
  },
  {
   "cell_type": "code",
   "execution_count": 7,
   "metadata": {},
   "outputs": [],
   "source": [
    "import zipfile\n",
    "import pathlib\n",
    "import shutil\n",
    "\n",
    "pathlib.Path('./ood_data/track_1').mkdir(parents=True, exist_ok=True)\n",
    "with zipfile.ZipFile(\"./target_2.zip\",\"r\") as zip_ref:\n",
    "    zip_ref.extractall(\"./ood_data/track_1\")\n",
    "    "
   ]
  },
  {
   "cell_type": "code",
   "execution_count": 8,
   "metadata": {},
   "outputs": [],
   "source": [
    "with zipfile.ZipFile(\"./ood_data/track_1/track_1.zip\",\"r\") as zip_ref:\n",
    "    zip_ref.extractall(\"./ood_data/track_1\")"
   ]
  },
  {
   "cell_type": "code",
   "execution_count": 10,
   "metadata": {},
   "outputs": [
    {
     "data": {
      "text/plain": [
       "'./ood_data/track_1/dg_label_id_mapping_new.json'"
      ]
     },
     "execution_count": 10,
     "metadata": {},
     "output_type": "execute_result"
    }
   ],
   "source": [
    "\n",
    "json_path = './dg_label_id_mapping_new.json'\n",
    "dst_path = './ood_data/track_1'\n",
    "shutil.copy(json_path, dst_path)"
   ]
  }
 ],
 "metadata": {
  "kernelspec": {
   "display_name": "Python 3",
   "language": "python",
   "name": "python3"
  },
  "language_info": {
   "codemirror_mode": {
    "name": "ipython",
    "version": 3
   },
   "file_extension": ".py",
   "mimetype": "text/x-python",
   "name": "python",
   "nbconvert_exporter": "python",
   "pygments_lexer": "ipython3",
   "version": "3.6.10"
  }
 },
 "nbformat": 4,
 "nbformat_minor": 4
}
